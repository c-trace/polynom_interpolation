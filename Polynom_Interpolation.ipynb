{
 "cells": [
  {
   "cell_type": "markdown",
   "metadata": {},
   "source": [
    "<img src=\"c_trace_logo_academy_lightgrey_4c.png\" width=\"150\" align=\"right\">\n",
    "\n",
    "# Berechnung der Finalwerte aus den Rohwerten bei der Waage\n",
    "---\n",
    "## Verfahren\n",
    "Unter *Edit Certified* werden Stützpunkte für die Soll- und Istgewichte eingegeben. Daraus berechnet die Waage ein [Polynom](https://de.wikipedia.org/wiki/Polynominterpolation) der Form\n",
    "\n",
    "$y = a_0 + a_1 \\cdot x^1 + a_2 \\cdot x^2 + \\ldots + a_n \\cdot x^n$ \n",
    "\n",
    "welches alle Stützpunkte miteinander verbindet. Der Grad $n$ des Polynoms wird umso höher, je mehr Stützpunkte angegeben werden. Die Koeffizienten $a_0...a_n$ des Polynoms werden in der Waage gespeichert und für die Ermittlung der Finalwerte aus den gemessenen Gewichten verwendet. "
   ]
  },
  {
   "cell_type": "code",
   "execution_count": null,
   "metadata": {
    "scrolled": false
   },
   "outputs": [],
   "source": [
    "%matplotlib inline\n",
    "import numpy as np\n",
    "import auxilliary_functions as aux"
   ]
  },
  {
   "cell_type": "markdown",
   "metadata": {},
   "source": [
    "### Stützpunkte aus *Edit Certified*"
   ]
  },
  {
   "cell_type": "code",
   "execution_count": null,
   "metadata": {
    "scrolled": false
   },
   "outputs": [],
   "source": [
    "nominal = np.array([0.0, 5.0, 10.0, 20.0, 50.0, 100.0, 150.0])\n",
    "actual  = np.array([0.0, 5.0, 10.0, 20.0, 50.0, 100.0, 150.0])\n",
    "\n",
    "#nominal = np.array([0.0, 5.0, 10.0, 20.0, 50.0, 100.0, 120.0, 150.0])\n",
    "#actual = np.array([6.5, 11.8, 17.0, 26.5, 59.0, 119.0, 138.0, 169.0])\n",
    "\n",
    "#nominal = np.array([0.0, 10.0, 30.0, 50.0, 100.0, 150.0])\n",
    "#actual = np.array([3.0, 12.0, 34.0, 53.0, 103.0, 149.0])\n",
    "\n",
    "#nominal = np.array([0.0, 25.0, 100.0, 250.0, 500.0])\n",
    "#actual = np.array([6.0, 31.0, 107.0, 258.0, 523.0])"
   ]
  },
  {
   "cell_type": "markdown",
   "metadata": {},
   "source": [
    "### Berechnung und Darstellung des Interpolationspolynoms"
   ]
  },
  {
   "cell_type": "code",
   "execution_count": null,
   "metadata": {
    "scrolled": false
   },
   "outputs": [],
   "source": [
    "# Polynome berechnen und im Diagramm anzeigen\n",
    "poly_3, poly_final = aux.show_polynomial_plots(actual, nominal)"
   ]
  },
  {
   "cell_type": "code",
   "execution_count": null,
   "metadata": {},
   "outputs": [],
   "source": [
    "# Abweichung Final Value\n",
    "raw_value = 75\n",
    "poly_final(raw_value)-poly_3(raw_value)"
   ]
  },
  {
   "cell_type": "code",
   "execution_count": null,
   "metadata": {},
   "outputs": [],
   "source": [
    "# Polynomkoeffizienten ausgeben\n",
    "print(poly_final)"
   ]
  },
  {
   "cell_type": "markdown",
   "metadata": {},
   "source": [
    "---\n",
    "## Alternative: Interpolation über Splines oder lineare Interpolation\n",
    "[Splines](https://de.wikipedia.org/wiki/Spline-Interpolation) sind aufwändiger zu berechnen, haben aber eine deutlich geringere Schwingungsneigung als Polynome höheren Grades. Unten wird exemplarisch die Interpolation über Splines sowie die lineare Interpolation (= Geradenabschnitte) auf die Eingabedaten angewendet."
   ]
  },
  {
   "cell_type": "code",
   "execution_count": null,
   "metadata": {
    "scrolled": false
   },
   "outputs": [],
   "source": [
    "# Bikubische Splines berechnen und im Diagramm darstellen\n",
    "aux.show_spline_plots(actual, nominal)"
   ]
  },
  {
   "cell_type": "markdown",
   "metadata": {},
   "source": [
    "---\n",
    "&copy; c-trace GmbH - Thomas Kemner"
   ]
  }
 ],
 "metadata": {
  "kernelspec": {
   "display_name": "Python 3",
   "language": "python",
   "name": "python3"
  },
  "language_info": {
   "codemirror_mode": {
    "name": "ipython",
    "version": 3
   },
   "file_extension": ".py",
   "mimetype": "text/x-python",
   "name": "python",
   "nbconvert_exporter": "python",
   "pygments_lexer": "ipython3",
   "version": "3.6.6"
  }
 },
 "nbformat": 4,
 "nbformat_minor": 2
}
